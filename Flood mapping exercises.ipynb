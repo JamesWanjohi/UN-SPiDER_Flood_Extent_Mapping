{
 "cells": [
  {
   "cell_type": "markdown",
   "id": "79665975",
   "metadata": {},
   "source": [
    "# Background Information\n",
    "Reference Materials and codes \n",
    " - https://appliedsciences.nasa.gov/sites/default/files/2023-11/SAR_Part3.pdf - Background information on SAR and SAR properties\n",
    " - https://code.earthengine.google.com/f5c2f984c053c8ea574bfcd4040d084e - UNSPIDER Code for flood extent mapping adapted in this code\n",
    " - https://github.com/UN-SPIDER/radar-based-flood-mapping?tab=readme-ov-file - GitHub Code for flood analysis\n",
    " - https://colab.research.google.com/github/UN-SPIDER/radar-based-flood-mapping/blob/main/resources/notebooks/radar-based-flood-mapping-colab.ipynb#scrollTo=wvsKF_MmW3_U - Google Colab Notebook for flood analysis"
   ]
  },
  {
   "cell_type": "markdown",
   "id": "affa50f4",
   "metadata": {},
   "source": [
    "## Start with the installation of the python libraries to support your analysis"
   ]
  },
  {
   "cell_type": "code",
   "execution_count": 1,
   "id": "a239de3c",
   "metadata": {},
   "outputs": [],
   "source": [
    "try:\n",
    "    import ee\n",
    "#     %pip install earthengine-api --upgrade\n",
    "    ee.Authenticate()\n",
    "    ee.Initialize()\n",
    "except:\n",
    "#     %pip install earthengine-api --upgrade\n",
    "    import ee\n",
    "    ee.Authenticate()\n",
    "    ee.Initialize()\n",
    "\n",
    "try:\n",
    "    import geemap.foliumap as geemap\n",
    "except:\n",
    "#     %pip install geemap\n",
    "    import geemap.foliumap as geemap"
   ]
  },
  {
   "cell_type": "markdown",
   "id": "c25a662b",
   "metadata": {},
   "source": [
    "## Roadmap for the analysis\n",
    "1. Define the date of flooding\n",
    "2. Define your area of interest where the flooding happened\n",
    "3. Use the dates to get images before and after the floods\n",
    "4. Analyze the difference between the two images to get flooded areas\n",
    "5. Improve the SAR derived flood maps by removing permanent areas, high slopes and adjacent pixels\n",
    "6. Visualize your map\n",
    "\n",
    "## Advanced Analysis\n",
    "1. Analyze exposed population\n",
    "2. Agricultural areas affected\n",
    "3. Urban areas"
   ]
  },
  {
   "cell_type": "markdown",
   "id": "77be9c2c",
   "metadata": {},
   "source": [
    "## 1. Define the dates for the floods"
   ]
  },
  {
   "cell_type": "code",
   "execution_count": 2,
   "id": "13acca32",
   "metadata": {},
   "outputs": [],
   "source": [
    "## Date of flood 2019-07-04\n",
    "before_start = '2019-06-25'\n",
    "before_end = '2019-07-05'\n",
    "\n",
    "after_start = '2019-07-05'\n",
    "after_end = '2019-07-15'"
   ]
  },
  {
   "cell_type": "markdown",
   "id": "97fedac4",
   "metadata": {},
   "source": [
    "## 2. Area of interest"
   ]
  },
  {
   "cell_type": "code",
   "execution_count": 3,
   "id": "0e941ae6",
   "metadata": {},
   "outputs": [],
   "source": [
    "## Get your area of interest by uncommenting the next code\n",
    "## Draw a polygon \n",
    "## click on the drawn polygon\n",
    "## copy and paste the coordinates in the next line of code\n",
    "# aoimap = geemap.Map()\n",
    "# aoimap"
   ]
  },
  {
   "cell_type": "code",
   "execution_count": 4,
   "id": "b9ae0241",
   "metadata": {},
   "outputs": [],
   "source": [
    "aoi_ee = ee.Geometry.Polygon([[-0.552207,5.429763],[-0.552207,5.886368],[0.079372,5.886368],[0.079372,5.429763],[-0.552207,5.429763]])"
   ]
  },
  {
   "cell_type": "markdown",
   "id": "b48fec7a",
   "metadata": {},
   "source": [
    "## 3. Select our images"
   ]
  },
  {
   "cell_type": "code",
   "execution_count": 5,
   "id": "14dce87e",
   "metadata": {},
   "outputs": [],
   "source": [
    "polarization = 'VH'\n",
    "pass_direction = 'ASCENDING'\n",
    "collection= ee.ImageCollection('COPERNICUS/S1_GRD') \\\n",
    "    .filter(ee.Filter.eq('instrumentMode','IW')) \\\n",
    "    .filter(ee.Filter.listContains('transmitterReceiverPolarisation', polarization)) \\\n",
    "    .filter(ee.Filter.eq('orbitProperties_pass',pass_direction)) \\\n",
    "    .filter(ee.Filter.eq('resolution_meters',10)) \\\n",
    "    .filterBounds(aoi_ee) \\\n",
    "    .select(polarization)"
   ]
  },
  {
   "cell_type": "code",
   "execution_count": 6,
   "id": "5c9cc819",
   "metadata": {},
   "outputs": [],
   "source": [
    "before_collection = collection.filterDate(before_start, before_end) # collection before flood\n",
    "after_collection = collection.filterDate(after_start,after_end) # collection after floods"
   ]
  },
  {
   "cell_type": "code",
   "execution_count": 7,
   "id": "e5c84ac4",
   "metadata": {},
   "outputs": [
    {
     "name": "stdout",
     "output_type": "stream",
     "text": [
      "2  Number of Images Before the flood\n",
      "1  Number of Images after the flood\n"
     ]
    }
   ],
   "source": [
    "before_count = before_collection.size()\n",
    "print(before_count.getInfo(), ' Number of Images Before the flood')\n",
    "after_count = after_collection.size()\n",
    "print(after_count.getInfo(), ' Number of Images after the flood')"
   ]
  },
  {
   "cell_type": "markdown",
   "id": "f226c616",
   "metadata": {},
   "source": [
    "## 4. Analyze the Data"
   ]
  },
  {
   "cell_type": "code",
   "execution_count": 8,
   "id": "6e32bec0",
   "metadata": {},
   "outputs": [],
   "source": [
    "# Create a mosaic of selected tiles and clip to study area\n",
    "before = before_collection.mosaic().clip(aoi_ee)\n",
    "after = after_collection.mosaic().clip(aoi_ee)"
   ]
  },
  {
   "cell_type": "code",
   "execution_count": 9,
   "id": "839df367",
   "metadata": {},
   "outputs": [],
   "source": [
    "# Apply reduce the radar speckle by smoothing  \n",
    "smoothing_radius = 50\n",
    "before_filtered = before.focal_mean(smoothing_radius, 'circle', 'meters')\n",
    "after_filtered = after.focal_mean(smoothing_radius, 'circle', 'meters')"
   ]
  },
  {
   "cell_type": "code",
   "execution_count": 10,
   "id": "57cecfd1",
   "metadata": {},
   "outputs": [],
   "source": [
    "threshold = 0.8 # This is by trial and error for before and after images\n",
    "difference = after_filtered.divide(before_filtered) # Calculate the difference between the two images\n",
    "difference_binary = difference.lt(threshold)"
   ]
  },
  {
   "cell_type": "markdown",
   "id": "b416d188",
   "metadata": {},
   "source": [
    "## 5. Improve on the outputs"
   ]
  },
  {
   "cell_type": "markdown",
   "id": "bb1ecdc7",
   "metadata": {},
   "source": [
    "### 5.1 Remove permanent water bodies"
   ]
  },
  {
   "cell_type": "code",
   "execution_count": 20,
   "id": "9f10584e",
   "metadata": {},
   "outputs": [],
   "source": [
    "swater = ee.Image('JRC/GSW1_4/GlobalSurfaceWater').select('seasonality') # Surface water dataset\n",
    "swater_mask = swater.gte(10).updateMask(swater.gte(10)) # mask where there is water > 10 months of the year\n",
    "flooded_mask = difference_binary.where(swater_mask,0) # mask perennial waters = 0\n",
    "flooded = flooded_mask.updateMask(flooded_mask)"
   ]
  },
  {
   "cell_type": "markdown",
   "id": "87d6f3cc",
   "metadata": {},
   "source": [
    "### 5.2 Remove isolated pixels"
   ]
  },
  {
   "cell_type": "code",
   "execution_count": 21,
   "id": "5808651a",
   "metadata": {},
   "outputs": [],
   "source": [
    "connections = flooded.connectedPixelCount()\n",
    "flooded = flooded.updateMask(connections.gte(8))"
   ]
  },
  {
   "cell_type": "markdown",
   "id": "27d4eeca",
   "metadata": {},
   "source": [
    "### 5.3 Maintain pixels that are within 5% slope"
   ]
  },
  {
   "cell_type": "code",
   "execution_count": 22,
   "id": "512b5601",
   "metadata": {},
   "outputs": [],
   "source": [
    "DEM = ee.Image('WWF/HydroSHEDS/03VFDEM')\n",
    "terrain = ee.Algorithms.Terrain(DEM)\n",
    "slope = terrain.select('slope').clip(aoi_ee)\n",
    "flooded = flooded.updateMask(slope.lt(5))"
   ]
  },
  {
   "cell_type": "markdown",
   "id": "e6927d7a",
   "metadata": {},
   "source": [
    "## 6 Export the output to your local machine"
   ]
  },
  {
   "cell_type": "code",
   "execution_count": 14,
   "id": "52ee1681",
   "metadata": {
    "scrolled": true
   },
   "outputs": [],
   "source": [
    "## If you would like to export the output to your local machine, do uncomment the next line\n",
    "\n",
    "#geemap.ee_export_image(ee_object=flooded, filename=\"floodedAreas.tif\", scale=30, crs=None, region=aoi_ee, file_per_band=False)"
   ]
  },
  {
   "cell_type": "markdown",
   "id": "68bee43a",
   "metadata": {},
   "source": [
    "## Using GEE, calculate the exposure levels"
   ]
  },
  {
   "cell_type": "markdown",
   "id": "37ea219b",
   "metadata": {},
   "source": [
    "### Population Affected"
   ]
  },
  {
   "cell_type": "code",
   "execution_count": 15,
   "id": "3c2279e3",
   "metadata": {},
   "outputs": [
    {
     "name": "stdout",
     "output_type": "stream",
     "text": [
      "4162  people are affected\n"
     ]
    }
   ],
   "source": [
    "population_count = ee.Image('JRC/GHSL/P2016/POP_GPW_GLOBE_V1/2015').clip(aoi_ee) # Pop Global Data\n",
    "population_exposed = population_count \\\n",
    "  .updateMask(flooded) \\\n",
    "  .updateMask(population_count) \n",
    "\n",
    "stats = population_exposed.reduceRegion( \\\n",
    "            reducer= ee.Reducer.sum(), \\\n",
    "            geometry= population_exposed.geometry(), \\\n",
    "            scale= 250, \\\n",
    "            maxPixels = 1e9 \\\n",
    "            )\n",
    "number_pp_exposed = stats.getNumber('population_count').round().getInfo()\n",
    "\n",
    "print(number_pp_exposed, ' people are affected')"
   ]
  },
  {
   "cell_type": "markdown",
   "id": "d8a92cec",
   "metadata": {},
   "source": [
    "### Agricultural area affected"
   ]
  },
  {
   "cell_type": "code",
   "execution_count": 23,
   "id": "103982d5",
   "metadata": {},
   "outputs": [],
   "source": [
    "LC = ee.ImageCollection('MODIS/061/MCD12Q1') \\\n",
    "        .filterDate('2014-01-01',after_end) \\\n",
    "        .sort('system:index',False) \\\n",
    "        .select(\"LC_Type1\") \\\n",
    "        .first() \\\n",
    "        .clip(aoi_ee) "
   ]
  },
  {
   "cell_type": "code",
   "execution_count": 24,
   "id": "6628fcc4",
   "metadata": {},
   "outputs": [
    {
     "data": {
      "text/plain": [
       "0"
      ]
     },
     "execution_count": 24,
     "metadata": {},
     "output_type": "execute_result"
    }
   ],
   "source": [
    "## get cropland pixels using the classes cropland (>60%) and Cropland/Natural \n",
    "## Vegetation Mosaics: mosaics of small-scale cultivation 40-60% incl. natural vegetation\n",
    "cropmask = LC.eq(14).And(LC.eq(14))\n",
    "cropland = LC.updateMask(cropmask)\n",
    "  \n",
    "## Get MODIS projection\n",
    "MODISprojection = LC.projection() \n",
    "\n",
    "## Reproject flood layer to MODIS scale\n",
    "flooded_res = flooded \\\n",
    "    .reproject( \\\n",
    "    crs = MODISprojection \\\n",
    "  )\n",
    "\n",
    "## Calculate affected cropland using the resampled flood layer\n",
    "cropland_affected = flooded_res.updateMask(cropland)\n",
    "\n",
    "## get pixel area of affected cropland layer\n",
    "crop_pixelarea = cropland_affected.multiply(ee.Image.pixelArea()) ## calcuate the area of each pixel \n",
    "\n",
    "## sum pixels of affected cropland layer\n",
    "crop_stats = crop_pixelarea.reduceRegion( \\\n",
    "                reducer = ee.Reducer.sum(), \\\n",
    "                geometry = aoi_ee, \\\n",
    "                scale = 500, \\\n",
    "                maxPixels = 1e9 \\\n",
    ")\n",
    "  \n",
    "## convert area to hectares\n",
    "crop_area_ha = crop_stats \\\n",
    "  .getNumber(polarization) \\\n",
    "  .divide(10000) \\\n",
    "  .round() \\\n",
    "  .getInfo()\n",
    "crop_area_ha"
   ]
  },
  {
   "cell_type": "markdown",
   "id": "1caf4905",
   "metadata": {},
   "source": [
    "## Affected Urban Area"
   ]
  },
  {
   "cell_type": "code",
   "execution_count": 25,
   "id": "3183c5a5",
   "metadata": {},
   "outputs": [],
   "source": [
    "## Using the same MODIS Land Cover Product \n",
    "##Filter urban areas\n",
    "urbanmask = LC.eq(13)\n",
    "urban = LC.updateMask(urbanmask)\n",
    "\n",
    "## Calculate affected urban areas using the resampled flood layer\n",
    "urban_affected = urban.mask(flooded_res).updateMask(urban)\n",
    "\n",
    "## get pixel area of affected urban layer\n",
    "urban_pixelarea = urban_affected \\\n",
    "    .multiply(ee.Image.pixelArea()) ##calcuate the area of each pixel \n",
    "\n",
    "## sum pixels of affected cropland layer\n",
    "urban_stats = urban_pixelarea.reduceRegion( \\\n",
    "                reducer= ee.Reducer.sum(),\\\n",
    "                geometry= aoi_ee, \\\n",
    "                scale= 500, \\\n",
    "                bestEffort= True, \\\n",
    ")\n",
    "\n",
    "## convert area to hectares\n",
    "urban_area_ha = urban_stats \\\n",
    "  .getNumber('LC_Type1') \\\n",
    "  .divide(10000) \\\n",
    "  .round()"
   ]
  },
  {
   "cell_type": "markdown",
   "id": "35d503b8",
   "metadata": {},
   "source": [
    "## 7. Visualize the Output"
   ]
  },
  {
   "cell_type": "code",
   "execution_count": 26,
   "id": "076c8a9e",
   "metadata": {},
   "outputs": [
    {
     "data": {
      "text/html": [
       "<div style=\"width:100%;\"><div style=\"position:relative;width:100%;height:0;padding-bottom:60%;\"><span style=\"color:#565656\">Make this Notebook Trusted to load map: File -> Trust Notebook</span><iframe srcdoc=\"&lt;!DOCTYPE html&gt;\n",
       "&lt;head&gt;    \n",
       "    &lt;meta http-equiv=&quot;content-type&quot; content=&quot;text/html; charset=UTF-8&quot; /&gt;\n",
       "    \n",
       "        &lt;script&gt;\n",
       "            L_NO_TOUCH = false;\n",
       "            L_DISABLE_3D = false;\n",
       "        &lt;/script&gt;\n",
       "    \n",
       "    &lt;style&gt;html, body {width: 100%;height: 100%;margin: 0;padding: 0;}&lt;/style&gt;\n",
       "    &lt;style&gt;#map {position:absolute;top:0;bottom:0;right:0;left:0;}&lt;/style&gt;\n",
       "    &lt;script src=&quot;https://cdn.jsdelivr.net/npm/leaflet@1.6.0/dist/leaflet.js&quot;&gt;&lt;/script&gt;\n",
       "    &lt;script src=&quot;https://code.jquery.com/jquery-1.12.4.min.js&quot;&gt;&lt;/script&gt;\n",
       "    &lt;script src=&quot;https://maxcdn.bootstrapcdn.com/bootstrap/3.2.0/js/bootstrap.min.js&quot;&gt;&lt;/script&gt;\n",
       "    &lt;script src=&quot;https://cdnjs.cloudflare.com/ajax/libs/Leaflet.awesome-markers/2.0.2/leaflet.awesome-markers.js&quot;&gt;&lt;/script&gt;\n",
       "    &lt;link rel=&quot;stylesheet&quot; href=&quot;https://cdn.jsdelivr.net/npm/leaflet@1.6.0/dist/leaflet.css&quot;/&gt;\n",
       "    &lt;link rel=&quot;stylesheet&quot; href=&quot;https://maxcdn.bootstrapcdn.com/bootstrap/3.2.0/css/bootstrap.min.css&quot;/&gt;\n",
       "    &lt;link rel=&quot;stylesheet&quot; href=&quot;https://maxcdn.bootstrapcdn.com/bootstrap/3.2.0/css/bootstrap-theme.min.css&quot;/&gt;\n",
       "    &lt;link rel=&quot;stylesheet&quot; href=&quot;https://maxcdn.bootstrapcdn.com/font-awesome/4.6.3/css/font-awesome.min.css&quot;/&gt;\n",
       "    &lt;link rel=&quot;stylesheet&quot; href=&quot;https://cdnjs.cloudflare.com/ajax/libs/Leaflet.awesome-markers/2.0.2/leaflet.awesome-markers.css&quot;/&gt;\n",
       "    &lt;link rel=&quot;stylesheet&quot; href=&quot;https://cdn.jsdelivr.net/gh/python-visualization/folium/folium/templates/leaflet.awesome.rotate.min.css&quot;/&gt;\n",
       "    \n",
       "            &lt;meta name=&quot;viewport&quot; content=&quot;width=device-width,\n",
       "                initial-scale=1.0, maximum-scale=1.0, user-scalable=no&quot; /&gt;\n",
       "            &lt;style&gt;\n",
       "                #map_d8e4e2dd45c9370e72fa6384af1e31e5 {\n",
       "                    position: relative;\n",
       "                    width: 100.0%;\n",
       "                    height: 100.0%;\n",
       "                    left: 0.0%;\n",
       "                    top: 0.0%;\n",
       "                }\n",
       "            &lt;/style&gt;\n",
       "        \n",
       "    &lt;script src=&quot;https://cdnjs.cloudflare.com/ajax/libs/leaflet.fullscreen/1.4.2/Control.FullScreen.min.js&quot;&gt;&lt;/script&gt;\n",
       "    &lt;link rel=&quot;stylesheet&quot; href=&quot;https://cdnjs.cloudflare.com/ajax/libs/leaflet.fullscreen/1.4.2/Control.FullScreen.min.css&quot;/&gt;\n",
       "    &lt;script src=&quot;https://cdnjs.cloudflare.com/ajax/libs/leaflet.draw/1.0.2/leaflet.draw.js&quot;&gt;&lt;/script&gt;\n",
       "    &lt;link rel=&quot;stylesheet&quot; href=&quot;https://cdnjs.cloudflare.com/ajax/libs/leaflet.draw/1.0.2/leaflet.draw.css&quot;/&gt;\n",
       "    &lt;script src=&quot;https://unpkg.com/leaflet-control-geocoder/dist/Control.Geocoder.js&quot;&gt;&lt;/script&gt;\n",
       "    &lt;link rel=&quot;stylesheet&quot; href=&quot;https://unpkg.com/leaflet-control-geocoder/dist/Control.Geocoder.css&quot;/&gt;\n",
       "&lt;/head&gt;\n",
       "&lt;body&gt;    \n",
       "    \n",
       "            &lt;div class=&quot;folium-map&quot; id=&quot;map_d8e4e2dd45c9370e72fa6384af1e31e5&quot; &gt;&lt;/div&gt;\n",
       "        \n",
       "&lt;/body&gt;\n",
       "&lt;script&gt;    \n",
       "    \n",
       "            var map_d8e4e2dd45c9370e72fa6384af1e31e5 = L.map(\n",
       "                &quot;map_d8e4e2dd45c9370e72fa6384af1e31e5&quot;,\n",
       "                {\n",
       "                    center: [20.0, 0.0],\n",
       "                    crs: L.CRS.EPSG3857,\n",
       "                    zoom: 2,\n",
       "                    zoomControl: true,\n",
       "                    preferCanvas: false,\n",
       "                    eeInitialize: true,\n",
       "                    addGoogleMap: true,\n",
       "                    pluginLatlngpopup: false,\n",
       "                    pluginFullscreen: true,\n",
       "                    pluginDraw: true,\n",
       "                    DrawExport: false,\n",
       "                    pluginMinimap: false,\n",
       "                    pluginLayercontrol: false,\n",
       "                    locateControl: false,\n",
       "                    searchControl: true,\n",
       "                }\n",
       "            );\n",
       "\n",
       "            \n",
       "\n",
       "        \n",
       "    \n",
       "            var tile_layer_54e21e7e70b74b3d85e53f1642b4a10c = L.tileLayer(\n",
       "                &quot;https://{s}.tile.openstreetmap.org/{z}/{x}/{y}.png&quot;,\n",
       "                {&quot;attribution&quot;: &quot;Data by \\u0026copy; \\u003ca href=\\&quot;http://openstreetmap.org\\&quot;\\u003eOpenStreetMap\\u003c/a\\u003e, under \\u003ca href=\\&quot;http://www.openstreetmap.org/copyright\\&quot;\\u003eODbL\\u003c/a\\u003e.&quot;, &quot;detectRetina&quot;: false, &quot;maxNativeZoom&quot;: 24, &quot;maxZoom&quot;: 24, &quot;minZoom&quot;: 0, &quot;noWrap&quot;: false, &quot;opacity&quot;: 1, &quot;subdomains&quot;: &quot;abc&quot;, &quot;tms&quot;: false}\n",
       "            ).addTo(map_d8e4e2dd45c9370e72fa6384af1e31e5);\n",
       "        \n",
       "    \n",
       "            var tile_layer_0f711b421e9104d357f13ee6b68b68ad = L.tileLayer(\n",
       "                &quot;https://mt1.google.com/vt/lyrs=m\\u0026x={x}\\u0026y={y}\\u0026z={z}&quot;,\n",
       "                {&quot;attribution&quot;: &quot;Google&quot;, &quot;detectRetina&quot;: false, &quot;maxNativeZoom&quot;: 22, &quot;maxZoom&quot;: 22, &quot;minZoom&quot;: 0, &quot;noWrap&quot;: false, &quot;opacity&quot;: 1, &quot;subdomains&quot;: &quot;abc&quot;, &quot;tms&quot;: false}\n",
       "            ).addTo(map_d8e4e2dd45c9370e72fa6384af1e31e5);\n",
       "        \n",
       "    \n",
       "            L.control.fullscreen(\n",
       "                {&quot;forceSeparateButton&quot;: false, &quot;position&quot;: &quot;topleft&quot;, &quot;title&quot;: &quot;Full Screen&quot;, &quot;titleCancel&quot;: &quot;Exit Full Screen&quot;}\n",
       "            ).addTo(map_d8e4e2dd45c9370e72fa6384af1e31e5);\n",
       "        \n",
       "    \n",
       "            var options = {\n",
       "              position: &quot;topleft&quot;,\n",
       "              draw: {},\n",
       "              edit: {},\n",
       "            }\n",
       "            // FeatureGroup is to store editable layers.\n",
       "            var drawnItems = new L.featureGroup().addTo(\n",
       "                map_d8e4e2dd45c9370e72fa6384af1e31e5\n",
       "            );\n",
       "            options.edit.featureGroup = drawnItems;\n",
       "            var draw_control_3c441db5c103fe1dcbae455a22bab0a4 = new L.Control.Draw(\n",
       "                options\n",
       "            ).addTo( map_d8e4e2dd45c9370e72fa6384af1e31e5 );\n",
       "            map_d8e4e2dd45c9370e72fa6384af1e31e5.on(L.Draw.Event.CREATED, function(e) {\n",
       "                var layer = e.layer,\n",
       "                    type = e.layerType;\n",
       "                var coords = JSON.stringify(layer.toGeoJSON());\n",
       "                layer.on(&#x27;click&#x27;, function() {\n",
       "                    alert(coords);\n",
       "                    console.log(coords);\n",
       "                });\n",
       "                drawnItems.addLayer(layer);\n",
       "             });\n",
       "            map_d8e4e2dd45c9370e72fa6384af1e31e5.on(&#x27;draw:created&#x27;, function(e) {\n",
       "                drawnItems.addLayer(e.layer);\n",
       "            });\n",
       "            \n",
       "        \n",
       "    \n",
       "            L.Control.geocoder(\n",
       "                {&quot;collapsed&quot;: true, &quot;defaultMarkGeocode&quot;: true, &quot;position&quot;: &quot;topleft&quot;}\n",
       "            ).on(&#x27;markgeocode&#x27;, function(e) {\n",
       "                map_d8e4e2dd45c9370e72fa6384af1e31e5.setView(e.geocode.center, 11);\n",
       "            }).addTo(map_d8e4e2dd45c9370e72fa6384af1e31e5);\n",
       "\n",
       "        \n",
       "    \n",
       "            map_d8e4e2dd45c9370e72fa6384af1e31e5.fitBounds(\n",
       "                [[20, 0], [20, 0]],\n",
       "                {&quot;maxZoom&quot;: 2}\n",
       "            );\n",
       "        \n",
       "    \n",
       "            map_d8e4e2dd45c9370e72fa6384af1e31e5.fitBounds(\n",
       "                [[5.658120836470328, -0.2364175000002395], [5.658120836470328, -0.2364175000002395]],\n",
       "                {&quot;maxZoom&quot;: 11}\n",
       "            );\n",
       "        \n",
       "    \n",
       "            var tile_layer_5dfa0d845b8ad7dc342975e4a060e42e = L.tileLayer(\n",
       "                &quot;https://earthengine.googleapis.com/v1/projects/earthengine-legacy/maps/73050615313d2dcd334f791972dddef5-3ea123ce4ab68674e5b3cc894ef22653/tiles/{z}/{x}/{y}&quot;,\n",
       "                {&quot;attribution&quot;: &quot;Google Earth Engine&quot;, &quot;detectRetina&quot;: false, &quot;maxNativeZoom&quot;: 24, &quot;maxZoom&quot;: 24, &quot;minZoom&quot;: 0, &quot;noWrap&quot;: false, &quot;opacity&quot;: 1.0, &quot;subdomains&quot;: &quot;abc&quot;, &quot;tms&quot;: false}\n",
       "            ).addTo(map_d8e4e2dd45c9370e72fa6384af1e31e5);\n",
       "        \n",
       "    \n",
       "            var tile_layer_4291d217bc32362394c1b9ae7bdc78fa = L.tileLayer(\n",
       "                &quot;https://earthengine.googleapis.com/v1/projects/earthengine-legacy/maps/216b3bf0f36299f7c5ad0981f0b1169b-39556bd2eab4776241020f8773935a59/tiles/{z}/{x}/{y}&quot;,\n",
       "                {&quot;attribution&quot;: &quot;Google Earth Engine&quot;, &quot;detectRetina&quot;: false, &quot;maxNativeZoom&quot;: 24, &quot;maxZoom&quot;: 24, &quot;minZoom&quot;: 0, &quot;noWrap&quot;: false, &quot;opacity&quot;: 1.0, &quot;subdomains&quot;: &quot;abc&quot;, &quot;tms&quot;: false}\n",
       "            ).addTo(map_d8e4e2dd45c9370e72fa6384af1e31e5);\n",
       "        \n",
       "    \n",
       "            var tile_layer_5bdaf8604e1c9485b457eace563a6d1d = L.tileLayer(\n",
       "                &quot;https://earthengine.googleapis.com/v1/projects/earthengine-legacy/maps/58a73907f3800941ae580b40aff666b4-311da1e4a5535a3c9f739eaeee572269/tiles/{z}/{x}/{y}&quot;,\n",
       "                {&quot;attribution&quot;: &quot;Google Earth Engine&quot;, &quot;detectRetina&quot;: false, &quot;maxNativeZoom&quot;: 24, &quot;maxZoom&quot;: 24, &quot;minZoom&quot;: 0, &quot;noWrap&quot;: false, &quot;opacity&quot;: 1.0, &quot;subdomains&quot;: &quot;abc&quot;, &quot;tms&quot;: false}\n",
       "            ).addTo(map_d8e4e2dd45c9370e72fa6384af1e31e5);\n",
       "        \n",
       "    \n",
       "            var tile_layer_a0fc36d3b38f6d0bb9b85bf5c660a473 = L.tileLayer(\n",
       "                &quot;https://earthengine.googleapis.com/v1/projects/earthengine-legacy/maps/bbcf506631e89d9141255210b0899e6c-1b74ba57064136dad75b3d8ec5a07b1c/tiles/{z}/{x}/{y}&quot;,\n",
       "                {&quot;attribution&quot;: &quot;Google Earth Engine&quot;, &quot;detectRetina&quot;: false, &quot;maxNativeZoom&quot;: 24, &quot;maxZoom&quot;: 24, &quot;minZoom&quot;: 0, &quot;noWrap&quot;: false, &quot;opacity&quot;: 1.0, &quot;subdomains&quot;: &quot;abc&quot;, &quot;tms&quot;: false}\n",
       "            ).addTo(map_d8e4e2dd45c9370e72fa6384af1e31e5);\n",
       "        \n",
       "    \n",
       "            var tile_layer_b6e51791297e4106556f093e5439bc11 = L.tileLayer(\n",
       "                &quot;https://earthengine.googleapis.com/v1/projects/earthengine-legacy/maps/25150d99dd3cb443b23f2682b2259ac5-2dc5be58a751cee9dfb6aab635803dac/tiles/{z}/{x}/{y}&quot;,\n",
       "                {&quot;attribution&quot;: &quot;Google Earth Engine&quot;, &quot;detectRetina&quot;: false, &quot;maxNativeZoom&quot;: 24, &quot;maxZoom&quot;: 24, &quot;minZoom&quot;: 0, &quot;noWrap&quot;: false, &quot;opacity&quot;: 1.0, &quot;subdomains&quot;: &quot;abc&quot;, &quot;tms&quot;: false}\n",
       "            ).addTo(map_d8e4e2dd45c9370e72fa6384af1e31e5);\n",
       "        \n",
       "    \n",
       "            var tile_layer_74f16777f19c00b52c1849ee11dd8b27 = L.tileLayer(\n",
       "                &quot;https://earthengine.googleapis.com/v1/projects/earthengine-legacy/maps/77702439d1978db515839624a83bdfaf-b676b3b554db9e1c78d0042675a1cbf6/tiles/{z}/{x}/{y}&quot;,\n",
       "                {&quot;attribution&quot;: &quot;Google Earth Engine&quot;, &quot;detectRetina&quot;: false, &quot;maxNativeZoom&quot;: 24, &quot;maxZoom&quot;: 24, &quot;minZoom&quot;: 0, &quot;noWrap&quot;: false, &quot;opacity&quot;: 1.0, &quot;subdomains&quot;: &quot;abc&quot;, &quot;tms&quot;: false}\n",
       "            ).addTo(map_d8e4e2dd45c9370e72fa6384af1e31e5);\n",
       "        \n",
       "    \n",
       "            var tile_layer_577587517fb713eefff0d2601952ba4e = L.tileLayer(\n",
       "                &quot;https://earthengine.googleapis.com/v1/projects/earthengine-legacy/maps/8760bd639906d1bd4640c66939728eee-64d19b333da2526bb9afdcccdd394361/tiles/{z}/{x}/{y}&quot;,\n",
       "                {&quot;attribution&quot;: &quot;Google Earth Engine&quot;, &quot;detectRetina&quot;: false, &quot;maxNativeZoom&quot;: 24, &quot;maxZoom&quot;: 24, &quot;minZoom&quot;: 0, &quot;noWrap&quot;: false, &quot;opacity&quot;: 1.0, &quot;subdomains&quot;: &quot;abc&quot;, &quot;tms&quot;: false}\n",
       "            ).addTo(map_d8e4e2dd45c9370e72fa6384af1e31e5);\n",
       "        \n",
       "    \n",
       "            var tile_layer_7cdba21a33141cbd3e57122c27f795b5 = L.tileLayer(\n",
       "                &quot;https://earthengine.googleapis.com/v1/projects/earthengine-legacy/maps/1ab1854b3b837db3458a2017be6295f9-9d79c1766811b74d685c2c73ccaaea21/tiles/{z}/{x}/{y}&quot;,\n",
       "                {&quot;attribution&quot;: &quot;Google Earth Engine&quot;, &quot;detectRetina&quot;: false, &quot;maxNativeZoom&quot;: 24, &quot;maxZoom&quot;: 24, &quot;minZoom&quot;: 0, &quot;noWrap&quot;: false, &quot;opacity&quot;: 1.0, &quot;subdomains&quot;: &quot;abc&quot;, &quot;tms&quot;: false}\n",
       "            ).addTo(map_d8e4e2dd45c9370e72fa6384af1e31e5);\n",
       "        \n",
       "    \n",
       "            var tile_layer_2b23038ef90c698753fb4db0a9112c9b = L.tileLayer(\n",
       "                &quot;https://earthengine.googleapis.com/v1/projects/earthengine-legacy/maps/4a890efa539ff8f4b30047cc09aee2c6-6b469b084e62be0b28e60b43a29943ee/tiles/{z}/{x}/{y}&quot;,\n",
       "                {&quot;attribution&quot;: &quot;Google Earth Engine&quot;, &quot;detectRetina&quot;: false, &quot;maxNativeZoom&quot;: 24, &quot;maxZoom&quot;: 24, &quot;minZoom&quot;: 0, &quot;noWrap&quot;: false, &quot;opacity&quot;: 1.0, &quot;subdomains&quot;: &quot;abc&quot;, &quot;tms&quot;: false}\n",
       "            ).addTo(map_d8e4e2dd45c9370e72fa6384af1e31e5);\n",
       "        \n",
       "    \n",
       "            var tile_layer_48c6185e836244d5d23403c0ca77fc59 = L.tileLayer(\n",
       "                &quot;https://earthengine.googleapis.com/v1/projects/earthengine-legacy/maps/1b59dd9b1ee7ae220ef63c9794eadcc0-bb3d8f227d767b09d273589501d7f39a/tiles/{z}/{x}/{y}&quot;,\n",
       "                {&quot;attribution&quot;: &quot;Google Earth Engine&quot;, &quot;detectRetina&quot;: false, &quot;maxNativeZoom&quot;: 24, &quot;maxZoom&quot;: 24, &quot;minZoom&quot;: 0, &quot;noWrap&quot;: false, &quot;opacity&quot;: 1.0, &quot;subdomains&quot;: &quot;abc&quot;, &quot;tms&quot;: false}\n",
       "            ).addTo(map_d8e4e2dd45c9370e72fa6384af1e31e5);\n",
       "        \n",
       "    \n",
       "            var layer_control_efdbc19db42861077d3cda4c449494e3 = {\n",
       "                base_layers : {\n",
       "                    &quot;openstreetmap&quot; : tile_layer_54e21e7e70b74b3d85e53f1642b4a10c,\n",
       "                },\n",
       "                overlays :  {\n",
       "                    &quot;Google Maps&quot; : tile_layer_0f711b421e9104d357f13ee6b68b68ad,\n",
       "                    &quot;Before Flood&quot; : tile_layer_5dfa0d845b8ad7dc342975e4a060e42e,\n",
       "                    &quot;After Flood&quot; : tile_layer_4291d217bc32362394c1b9ae7bdc78fa,\n",
       "                    &quot;Difference Layer&quot; : tile_layer_5bdaf8604e1c9485b457eace563a6d1d,\n",
       "                    &quot;Flooded areas&quot; : tile_layer_a0fc36d3b38f6d0bb9b85bf5c660a473,\n",
       "                    &quot;Population Density&quot; : tile_layer_b6e51791297e4106556f093e5439bc11,\n",
       "                    &quot;Layer name&quot; : tile_layer_74f16777f19c00b52c1849ee11dd8b27,\n",
       "                    &quot;before&quot; : tile_layer_577587517fb713eefff0d2601952ba4e,\n",
       "                    &quot;after&quot; : tile_layer_7cdba21a33141cbd3e57122c27f795b5,\n",
       "                    &quot;difference&quot; : tile_layer_2b23038ef90c698753fb4db0a9112c9b,\n",
       "                    &quot;floods&quot; : tile_layer_48c6185e836244d5d23403c0ca77fc59,\n",
       "                },\n",
       "            };\n",
       "            L.control.layers(\n",
       "                layer_control_efdbc19db42861077d3cda4c449494e3.base_layers,\n",
       "                layer_control_efdbc19db42861077d3cda4c449494e3.overlays,\n",
       "                {&quot;autoZIndex&quot;: true, &quot;collapsed&quot;: true, &quot;position&quot;: &quot;topright&quot;}\n",
       "            ).addTo(map_d8e4e2dd45c9370e72fa6384af1e31e5);\n",
       "            tile_layer_5dfa0d845b8ad7dc342975e4a060e42e.remove();\n",
       "            tile_layer_5bdaf8604e1c9485b457eace563a6d1d.remove();\n",
       "            tile_layer_b6e51791297e4106556f093e5439bc11.remove();\n",
       "        \n",
       "&lt;/script&gt;\" style=\"position:absolute;width:100%;height:100%;left:0;top:0;border:none !important;\" allowfullscreen webkitallowfullscreen mozallowfullscreen></iframe></div></div>"
      ],
      "text/plain": [
       "<geemap.foliumap.Map at 0x7f44dbf53f40>"
      ]
     },
     "execution_count": 26,
     "metadata": {},
     "output_type": "execute_result"
    }
   ],
   "source": [
    "Map = geemap.Map()\n",
    "Map.centerObject(aoi_ee, 11)\n",
    "Map.addLayer(before_filtered, {min:-25,max:0}, 'Before Flood',0)\n",
    "Map.addLayer(after_filtered, {min:-25,max:0}, 'After Flood',1)\n",
    "Map.addLayer(difference,{min:0,max:2},\"Difference Layer\",0)\n",
    "Map.addLayer(flooded,{'palette':\"0000FF\"},'Flooded areas')\n",
    "Map.addLayer(population_count, {min: 0,max: 200.0,'palette':['060606','337663','337663','ffffff']}, 'Population Density',0)\n",
    "Map.addLayer(aoi_ee, {}, 'Layer name') ## Visualize your shapefile in Google Earth Engine\n",
    "Map.addLayer(before, {\"min\": -25, \"max\":0}, \"before\")\n",
    "Map.addLayer(after, {\"min\": -25, \"max\":0}, \"after\")\n",
    "Map.addLayer(difference, {\"min\": 0.4, \"max\":0.7}, \"difference\")\n",
    "Map.addLayer(flooded, {\"palette\":[\"0000FF\"]}, \"floods\")\n",
    "Map"
   ]
  },
  {
   "cell_type": "code",
   "execution_count": null,
   "id": "7f4c319e",
   "metadata": {},
   "outputs": [],
   "source": []
  }
 ],
 "metadata": {
  "kernelspec": {
   "display_name": "Python 3 (ipykernel)",
   "language": "python",
   "name": "python3"
  },
  "language_info": {
   "codemirror_mode": {
    "name": "ipython",
    "version": 3
   },
   "file_extension": ".py",
   "mimetype": "text/x-python",
   "name": "python",
   "nbconvert_exporter": "python",
   "pygments_lexer": "ipython3",
   "version": "3.8.5"
  }
 },
 "nbformat": 4,
 "nbformat_minor": 5
}
